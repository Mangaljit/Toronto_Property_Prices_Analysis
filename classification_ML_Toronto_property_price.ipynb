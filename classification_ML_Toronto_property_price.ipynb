{
 "cells": [
  {
   "cell_type": "markdown",
   "metadata": {},
   "source": [
    "# Classification models to predict the property prices in Greater Toronto Area."
   ]
  },
  {
   "cell_type": "markdown",
   "metadata": {},
   "source": [
    "We categorize our entire dataset into three levels. The first level, assigned with a value of 0 will indicate a property price less that 0.8 million dollars. The second level, assigned with a value of 1 will indicate a property price in the range of 0.8-1.6 million dollars. And finally, the third level, assigned with a value of 2 will indicate a property price greater than 1.6 million dollars. "
   ]
  },
  {
   "cell_type": "markdown",
   "metadata": {},
   "source": [
    "Load the required Python packages.\n",
    "\n"
   ]
  },
  {
   "cell_type": "code",
   "execution_count": 1,
   "metadata": {},
   "outputs": [],
   "source": [
    "import os\n",
    "import time\n",
    "import numpy as np\n",
    "import pandas as pd\n",
    "import seaborn as sns\n",
    "import matplotlib.pyplot as plt\n",
    "from sklearn.metrics import accuracy_score\n",
    "from sklearn.metrics import confusion_matrix\n",
    "from sklearn.model_selection import GridSearchCV\n",
    "from sklearn.ensemble import RandomForestClassifier"
   ]
  },
  {
   "cell_type": "markdown",
   "metadata": {},
   "source": [
    "Start the clock for estimating the code execution time.\n",
    "\n"
   ]
  },
  {
   "cell_type": "code",
   "execution_count": 2,
   "metadata": {},
   "outputs": [],
   "source": [
    "t0 = time.time()"
   ]
  },
  {
   "cell_type": "markdown",
   "metadata": {},
   "source": [
    "# Load the dataset."
   ]
  },
  {
   "cell_type": "code",
   "execution_count": 3,
   "metadata": {},
   "outputs": [
    {
     "name": "stdout",
     "output_type": "stream",
     "text": [
      "(7324, 6)\n"
     ]
    },
    {
     "data": {
      "text/html": [
       "<div>\n",
       "<style scoped>\n",
       "    .dataframe tbody tr th:only-of-type {\n",
       "        vertical-align: middle;\n",
       "    }\n",
       "\n",
       "    .dataframe tbody tr th {\n",
       "        vertical-align: top;\n",
       "    }\n",
       "\n",
       "    .dataframe thead th {\n",
       "        text-align: right;\n",
       "    }\n",
       "</style>\n",
       "<table border=\"1\" class=\"dataframe\">\n",
       "  <thead>\n",
       "    <tr style=\"text-align: right;\">\n",
       "      <th></th>\n",
       "      <th>price</th>\n",
       "      <th>region</th>\n",
       "      <th>address</th>\n",
       "      <th>bedrooms</th>\n",
       "      <th>bathrooms</th>\n",
       "      <th>pricem</th>\n",
       "    </tr>\n",
       "  </thead>\n",
       "  <tbody>\n",
       "    <tr>\n",
       "      <th>0</th>\n",
       "      <td>799000</td>\n",
       "      <td>Ajax, ON</td>\n",
       "      <td>2 ROLLO DR, Ajax, Ontario</td>\n",
       "      <td>3</td>\n",
       "      <td>3</td>\n",
       "      <td>0.799000</td>\n",
       "    </tr>\n",
       "    <tr>\n",
       "      <th>1</th>\n",
       "      <td>989000</td>\n",
       "      <td>Ajax, ON</td>\n",
       "      <td>717 OLD HARWOOD AVE, Ajax, Ontario</td>\n",
       "      <td>2</td>\n",
       "      <td>1</td>\n",
       "      <td>0.989000</td>\n",
       "    </tr>\n",
       "    <tr>\n",
       "      <th>2</th>\n",
       "      <td>999900</td>\n",
       "      <td>Ajax, ON</td>\n",
       "      <td>52 ADDLEY CRES, Ajax, Ontario</td>\n",
       "      <td>3</td>\n",
       "      <td>4</td>\n",
       "      <td>0.999900</td>\n",
       "    </tr>\n",
       "    <tr>\n",
       "      <th>3</th>\n",
       "      <td>799900</td>\n",
       "      <td>Ajax, ON</td>\n",
       "      <td>249 MONARCH AVE, Ajax, Ontario</td>\n",
       "      <td>3</td>\n",
       "      <td>3</td>\n",
       "      <td>0.799900</td>\n",
       "    </tr>\n",
       "    <tr>\n",
       "      <th>4</th>\n",
       "      <td>899999</td>\n",
       "      <td>Ajax, ON</td>\n",
       "      <td>18 MONK CRES, Ajax, Ontario</td>\n",
       "      <td>3</td>\n",
       "      <td>3</td>\n",
       "      <td>0.899999</td>\n",
       "    </tr>\n",
       "  </tbody>\n",
       "</table>\n",
       "</div>"
      ],
      "text/plain": [
       "    price    region                             address  bedrooms  bathrooms  \\\n",
       "0  799000  Ajax, ON           2 ROLLO DR, Ajax, Ontario         3          3   \n",
       "1  989000  Ajax, ON  717 OLD HARWOOD AVE, Ajax, Ontario         2          1   \n",
       "2  999900  Ajax, ON       52 ADDLEY CRES, Ajax, Ontario         3          4   \n",
       "3  799900  Ajax, ON      249 MONARCH AVE, Ajax, Ontario         3          3   \n",
       "4  899999  Ajax, ON         18 MONK CRES, Ajax, Ontario         3          3   \n",
       "\n",
       "     pricem  \n",
       "0  0.799000  \n",
       "1  0.989000  \n",
       "2  0.999900  \n",
       "3  0.799900  \n",
       "4  0.899999  "
      ]
     },
     "execution_count": 3,
     "metadata": {},
     "output_type": "execute_result"
    }
   ],
   "source": [
    "path = os.getcwd() +\"/clean_combined_toronto_property_data.xlsx\"\n",
    "data = pd.read_excel(path)\n",
    "print(data.shape)\n",
    "data.head()"
   ]
  },
  {
   "cell_type": "markdown",
   "metadata": {},
   "source": [
    "# Data Cleaning."
   ]
  },
  {
   "cell_type": "markdown",
   "metadata": {},
   "source": [
    "Drop the **address** column from the dataset."
   ]
  },
  {
   "cell_type": "code",
   "execution_count": 4,
   "metadata": {},
   "outputs": [
    {
     "name": "stdout",
     "output_type": "stream",
     "text": [
      "(7324, 5)\n"
     ]
    },
    {
     "data": {
      "text/html": [
       "<div>\n",
       "<style scoped>\n",
       "    .dataframe tbody tr th:only-of-type {\n",
       "        vertical-align: middle;\n",
       "    }\n",
       "\n",
       "    .dataframe tbody tr th {\n",
       "        vertical-align: top;\n",
       "    }\n",
       "\n",
       "    .dataframe thead th {\n",
       "        text-align: right;\n",
       "    }\n",
       "</style>\n",
       "<table border=\"1\" class=\"dataframe\">\n",
       "  <thead>\n",
       "    <tr style=\"text-align: right;\">\n",
       "      <th></th>\n",
       "      <th>price</th>\n",
       "      <th>region</th>\n",
       "      <th>bedrooms</th>\n",
       "      <th>bathrooms</th>\n",
       "      <th>pricem</th>\n",
       "    </tr>\n",
       "  </thead>\n",
       "  <tbody>\n",
       "    <tr>\n",
       "      <th>0</th>\n",
       "      <td>799000</td>\n",
       "      <td>Ajax, ON</td>\n",
       "      <td>3</td>\n",
       "      <td>3</td>\n",
       "      <td>0.799000</td>\n",
       "    </tr>\n",
       "    <tr>\n",
       "      <th>1</th>\n",
       "      <td>989000</td>\n",
       "      <td>Ajax, ON</td>\n",
       "      <td>2</td>\n",
       "      <td>1</td>\n",
       "      <td>0.989000</td>\n",
       "    </tr>\n",
       "    <tr>\n",
       "      <th>2</th>\n",
       "      <td>999900</td>\n",
       "      <td>Ajax, ON</td>\n",
       "      <td>3</td>\n",
       "      <td>4</td>\n",
       "      <td>0.999900</td>\n",
       "    </tr>\n",
       "    <tr>\n",
       "      <th>3</th>\n",
       "      <td>799900</td>\n",
       "      <td>Ajax, ON</td>\n",
       "      <td>3</td>\n",
       "      <td>3</td>\n",
       "      <td>0.799900</td>\n",
       "    </tr>\n",
       "    <tr>\n",
       "      <th>4</th>\n",
       "      <td>899999</td>\n",
       "      <td>Ajax, ON</td>\n",
       "      <td>3</td>\n",
       "      <td>3</td>\n",
       "      <td>0.899999</td>\n",
       "    </tr>\n",
       "  </tbody>\n",
       "</table>\n",
       "</div>"
      ],
      "text/plain": [
       "    price    region  bedrooms  bathrooms    pricem\n",
       "0  799000  Ajax, ON         3          3  0.799000\n",
       "1  989000  Ajax, ON         2          1  0.989000\n",
       "2  999900  Ajax, ON         3          4  0.999900\n",
       "3  799900  Ajax, ON         3          3  0.799900\n",
       "4  899999  Ajax, ON         3          3  0.899999"
      ]
     },
     "execution_count": 4,
     "metadata": {},
     "output_type": "execute_result"
    }
   ],
   "source": [
    "data.drop(columns= [\"address\"], inplace= True)\n",
    "print(data.shape)\n",
    "data.head()"
   ]
  },
  {
   "cell_type": "markdown",
   "metadata": {},
   "source": [
    "Remove \", ON\" from each region name in the **region** column."
   ]
  },
  {
   "cell_type": "code",
   "execution_count": 5,
   "metadata": {},
   "outputs": [
    {
     "data": {
      "text/html": [
       "<div>\n",
       "<style scoped>\n",
       "    .dataframe tbody tr th:only-of-type {\n",
       "        vertical-align: middle;\n",
       "    }\n",
       "\n",
       "    .dataframe tbody tr th {\n",
       "        vertical-align: top;\n",
       "    }\n",
       "\n",
       "    .dataframe thead th {\n",
       "        text-align: right;\n",
       "    }\n",
       "</style>\n",
       "<table border=\"1\" class=\"dataframe\">\n",
       "  <thead>\n",
       "    <tr style=\"text-align: right;\">\n",
       "      <th></th>\n",
       "      <th>price</th>\n",
       "      <th>region</th>\n",
       "      <th>bedrooms</th>\n",
       "      <th>bathrooms</th>\n",
       "      <th>pricem</th>\n",
       "    </tr>\n",
       "  </thead>\n",
       "  <tbody>\n",
       "    <tr>\n",
       "      <th>0</th>\n",
       "      <td>799000</td>\n",
       "      <td>Ajax</td>\n",
       "      <td>3</td>\n",
       "      <td>3</td>\n",
       "      <td>0.799000</td>\n",
       "    </tr>\n",
       "    <tr>\n",
       "      <th>1</th>\n",
       "      <td>989000</td>\n",
       "      <td>Ajax</td>\n",
       "      <td>2</td>\n",
       "      <td>1</td>\n",
       "      <td>0.989000</td>\n",
       "    </tr>\n",
       "    <tr>\n",
       "      <th>2</th>\n",
       "      <td>999900</td>\n",
       "      <td>Ajax</td>\n",
       "      <td>3</td>\n",
       "      <td>4</td>\n",
       "      <td>0.999900</td>\n",
       "    </tr>\n",
       "    <tr>\n",
       "      <th>3</th>\n",
       "      <td>799900</td>\n",
       "      <td>Ajax</td>\n",
       "      <td>3</td>\n",
       "      <td>3</td>\n",
       "      <td>0.799900</td>\n",
       "    </tr>\n",
       "    <tr>\n",
       "      <th>4</th>\n",
       "      <td>899999</td>\n",
       "      <td>Ajax</td>\n",
       "      <td>3</td>\n",
       "      <td>3</td>\n",
       "      <td>0.899999</td>\n",
       "    </tr>\n",
       "  </tbody>\n",
       "</table>\n",
       "</div>"
      ],
      "text/plain": [
       "    price region  bedrooms  bathrooms    pricem\n",
       "0  799000  Ajax          3          3  0.799000\n",
       "1  989000  Ajax          2          1  0.989000\n",
       "2  999900  Ajax          3          4  0.999900\n",
       "3  799900  Ajax          3          3  0.799900\n",
       "4  899999  Ajax          3          3  0.899999"
      ]
     },
     "execution_count": 5,
     "metadata": {},
     "output_type": "execute_result"
    }
   ],
   "source": [
    "data[\"region\"] = data[\"region\"].str.replace(\",\", \"\")\n",
    "data[\"region\"] = data[\"region\"].str.replace(\"ON\", \"\")\n",
    "data.head()"
   ]
  },
  {
   "cell_type": "markdown",
   "metadata": {},
   "source": [
    "Check missing values."
   ]
  },
  {
   "cell_type": "code",
   "execution_count": 6,
   "metadata": {},
   "outputs": [
    {
     "data": {
      "text/plain": [
       "price        0\n",
       "region       0\n",
       "bedrooms     0\n",
       "bathrooms    0\n",
       "pricem       0\n",
       "dtype: int64"
      ]
     },
     "execution_count": 6,
     "metadata": {},
     "output_type": "execute_result"
    }
   ],
   "source": [
    "data.isna().sum()"
   ]
  },
  {
   "cell_type": "markdown",
   "metadata": {},
   "source": [
    "Keep properties with at least one bedroom, and at least one bathroom."
   ]
  },
  {
   "cell_type": "code",
   "execution_count": 7,
   "metadata": {},
   "outputs": [],
   "source": [
    "data = data[data.bedrooms > 0]\n",
    "data = data[data.bathrooms > 0]"
   ]
  },
  {
   "cell_type": "code",
   "execution_count": 8,
   "metadata": {},
   "outputs": [
    {
     "data": {
      "text/plain": [
       "(7269, 5)"
      ]
     },
     "execution_count": 8,
     "metadata": {},
     "output_type": "execute_result"
    }
   ],
   "source": [
    "data.shape"
   ]
  },
  {
   "cell_type": "markdown",
   "metadata": {},
   "source": [
    "The no. of listings and median property price in each region."
   ]
  },
  {
   "cell_type": "code",
   "execution_count": 9,
   "metadata": {},
   "outputs": [
    {
     "data": {
      "text/html": [
       "<div>\n",
       "<style scoped>\n",
       "    .dataframe tbody tr th:only-of-type {\n",
       "        vertical-align: middle;\n",
       "    }\n",
       "\n",
       "    .dataframe tbody tr th {\n",
       "        vertical-align: top;\n",
       "    }\n",
       "\n",
       "    .dataframe thead th {\n",
       "        text-align: right;\n",
       "    }\n",
       "</style>\n",
       "<table border=\"1\" class=\"dataframe\">\n",
       "  <thead>\n",
       "    <tr style=\"text-align: right;\">\n",
       "      <th></th>\n",
       "      <th>region</th>\n",
       "      <th>median price in million dollars</th>\n",
       "      <th>no. of listings</th>\n",
       "    </tr>\n",
       "  </thead>\n",
       "  <tbody>\n",
       "    <tr>\n",
       "      <th>0</th>\n",
       "      <td>King</td>\n",
       "      <td>2.969000</td>\n",
       "      <td>56</td>\n",
       "    </tr>\n",
       "    <tr>\n",
       "      <th>1</th>\n",
       "      <td>Caledon</td>\n",
       "      <td>1.899000</td>\n",
       "      <td>132</td>\n",
       "    </tr>\n",
       "    <tr>\n",
       "      <th>2</th>\n",
       "      <td>Oakville</td>\n",
       "      <td>1.799450</td>\n",
       "      <td>422</td>\n",
       "    </tr>\n",
       "    <tr>\n",
       "      <th>3</th>\n",
       "      <td>Richmond Hill</td>\n",
       "      <td>1.698500</td>\n",
       "      <td>382</td>\n",
       "    </tr>\n",
       "    <tr>\n",
       "      <th>4</th>\n",
       "      <td>East Gwillimbury</td>\n",
       "      <td>1.688500</td>\n",
       "      <td>92</td>\n",
       "    </tr>\n",
       "    <tr>\n",
       "      <th>5</th>\n",
       "      <td>Aurora</td>\n",
       "      <td>1.688000</td>\n",
       "      <td>130</td>\n",
       "    </tr>\n",
       "    <tr>\n",
       "      <th>6</th>\n",
       "      <td>Whitchurch-Stouffville</td>\n",
       "      <td>1.499000</td>\n",
       "      <td>98</td>\n",
       "    </tr>\n",
       "    <tr>\n",
       "      <th>7</th>\n",
       "      <td>Markham</td>\n",
       "      <td>1.399450</td>\n",
       "      <td>482</td>\n",
       "    </tr>\n",
       "    <tr>\n",
       "      <th>8</th>\n",
       "      <td>Vaughan</td>\n",
       "      <td>1.399000</td>\n",
       "      <td>478</td>\n",
       "    </tr>\n",
       "    <tr>\n",
       "      <th>9</th>\n",
       "      <td>Halton Hills</td>\n",
       "      <td>1.397000</td>\n",
       "      <td>80</td>\n",
       "    </tr>\n",
       "    <tr>\n",
       "      <th>10</th>\n",
       "      <td>Uxbridge</td>\n",
       "      <td>1.314000</td>\n",
       "      <td>18</td>\n",
       "    </tr>\n",
       "    <tr>\n",
       "      <th>11</th>\n",
       "      <td>Milton</td>\n",
       "      <td>1.299900</td>\n",
       "      <td>215</td>\n",
       "    </tr>\n",
       "    <tr>\n",
       "      <th>12</th>\n",
       "      <td>Newmarket</td>\n",
       "      <td>1.299000</td>\n",
       "      <td>139</td>\n",
       "    </tr>\n",
       "    <tr>\n",
       "      <th>13</th>\n",
       "      <td>Brampton</td>\n",
       "      <td>1.199000</td>\n",
       "      <td>597</td>\n",
       "    </tr>\n",
       "    <tr>\n",
       "      <th>14</th>\n",
       "      <td>Scugog</td>\n",
       "      <td>1.174900</td>\n",
       "      <td>16</td>\n",
       "    </tr>\n",
       "    <tr>\n",
       "      <th>15</th>\n",
       "      <td>Burlington</td>\n",
       "      <td>1.149900</td>\n",
       "      <td>306</td>\n",
       "    </tr>\n",
       "    <tr>\n",
       "      <th>16</th>\n",
       "      <td>Whitby</td>\n",
       "      <td>1.099000</td>\n",
       "      <td>130</td>\n",
       "    </tr>\n",
       "    <tr>\n",
       "      <th>17</th>\n",
       "      <td>Pickering</td>\n",
       "      <td>0.999950</td>\n",
       "      <td>84</td>\n",
       "    </tr>\n",
       "    <tr>\n",
       "      <th>18</th>\n",
       "      <td>Ajax</td>\n",
       "      <td>0.999000</td>\n",
       "      <td>114</td>\n",
       "    </tr>\n",
       "    <tr>\n",
       "      <th>19</th>\n",
       "      <td>Mississauga</td>\n",
       "      <td>0.999000</td>\n",
       "      <td>579</td>\n",
       "    </tr>\n",
       "    <tr>\n",
       "      <th>20</th>\n",
       "      <td>Georgina</td>\n",
       "      <td>0.999000</td>\n",
       "      <td>118</td>\n",
       "    </tr>\n",
       "    <tr>\n",
       "      <th>21</th>\n",
       "      <td>Scarborough Toronto</td>\n",
       "      <td>0.988000</td>\n",
       "      <td>414</td>\n",
       "    </tr>\n",
       "    <tr>\n",
       "      <th>22</th>\n",
       "      <td>Clarington</td>\n",
       "      <td>0.899999</td>\n",
       "      <td>127</td>\n",
       "    </tr>\n",
       "    <tr>\n",
       "      <th>23</th>\n",
       "      <td>Oshawa</td>\n",
       "      <td>0.899000</td>\n",
       "      <td>234</td>\n",
       "    </tr>\n",
       "    <tr>\n",
       "      <th>24</th>\n",
       "      <td>Brock</td>\n",
       "      <td>0.899000</td>\n",
       "      <td>26</td>\n",
       "    </tr>\n",
       "    <tr>\n",
       "      <th>25</th>\n",
       "      <td>Guelph</td>\n",
       "      <td>0.898988</td>\n",
       "      <td>186</td>\n",
       "    </tr>\n",
       "    <tr>\n",
       "      <th>26</th>\n",
       "      <td>Old Toronto Toronto</td>\n",
       "      <td>0.839000</td>\n",
       "      <td>444</td>\n",
       "    </tr>\n",
       "    <tr>\n",
       "      <th>27</th>\n",
       "      <td>Brantford</td>\n",
       "      <td>0.799999</td>\n",
       "      <td>131</td>\n",
       "    </tr>\n",
       "    <tr>\n",
       "      <th>28</th>\n",
       "      <td>Hamilton</td>\n",
       "      <td>0.799900</td>\n",
       "      <td>579</td>\n",
       "    </tr>\n",
       "    <tr>\n",
       "      <th>29</th>\n",
       "      <td>Cambridge</td>\n",
       "      <td>0.799900</td>\n",
       "      <td>163</td>\n",
       "    </tr>\n",
       "    <tr>\n",
       "      <th>30</th>\n",
       "      <td>Kitchener</td>\n",
       "      <td>0.749900</td>\n",
       "      <td>297</td>\n",
       "    </tr>\n",
       "  </tbody>\n",
       "</table>\n",
       "</div>"
      ],
      "text/plain": [
       "                     region  median price in million dollars  no. of listings\n",
       "0                     King                          2.969000               56\n",
       "1                  Caledon                          1.899000              132\n",
       "2                 Oakville                          1.799450              422\n",
       "3            Richmond Hill                          1.698500              382\n",
       "4         East Gwillimbury                          1.688500               92\n",
       "5                   Aurora                          1.688000              130\n",
       "6   Whitchurch-Stouffville                          1.499000               98\n",
       "7                  Markham                          1.399450              482\n",
       "8                  Vaughan                          1.399000              478\n",
       "9             Halton Hills                          1.397000               80\n",
       "10                Uxbridge                          1.314000               18\n",
       "11                  Milton                          1.299900              215\n",
       "12               Newmarket                          1.299000              139\n",
       "13                Brampton                          1.199000              597\n",
       "14                  Scugog                          1.174900               16\n",
       "15              Burlington                          1.149900              306\n",
       "16                  Whitby                          1.099000              130\n",
       "17               Pickering                          0.999950               84\n",
       "18                    Ajax                          0.999000              114\n",
       "19             Mississauga                          0.999000              579\n",
       "20                Georgina                          0.999000              118\n",
       "21     Scarborough Toronto                          0.988000              414\n",
       "22              Clarington                          0.899999              127\n",
       "23                  Oshawa                          0.899000              234\n",
       "24                   Brock                          0.899000               26\n",
       "25                  Guelph                          0.898988              186\n",
       "26     Old Toronto Toronto                          0.839000              444\n",
       "27               Brantford                          0.799999              131\n",
       "28                Hamilton                          0.799900              579\n",
       "29               Cambridge                          0.799900              163\n",
       "30               Kitchener                          0.749900              297"
      ]
     },
     "execution_count": 9,
     "metadata": {},
     "output_type": "execute_result"
    }
   ],
   "source": [
    "data_region_lisitngs = data.drop(columns= ['bedrooms', 'bathrooms', 'pricem'])\n",
    "data_region_lisitngs = (((data_region_lisitngs.groupby(by = 'region').count()).reset_index()))\n",
    "data_region_lisitngs.rename(columns= {'price' : 'no. of listings'}, inplace= True)\n",
    "\n",
    "data_median = data.drop(columns= ['bedrooms', 'bathrooms', 'price'])\n",
    "data_median = data_median.groupby(by= 'region').median().reset_index()\n",
    "data_median.rename(columns= {\"pricem\" : \"median price in million dollars\"}, inplace= True)\n",
    "\n",
    "pd.merge(data_median,data_region_lisitngs).sort_values(\n",
    "    by = \"median price in million dollars\", ascending= False\n",
    ").reset_index().drop(columns= \"index\")"
   ]
  },
  {
   "cell_type": "markdown",
   "metadata": {},
   "source": [
    "The exploratory data analysis showed that the region where the property is located, as well as the number of bedrooms and number of bathrooms a property has are important factors in deciding the listing price of the property.\n",
    "\n",
    "Therefore, we would like to predict the price of a house using the three features, namely **region**, **bedrooms** and **bathrooms**."
   ]
  },
  {
   "cell_type": "code",
   "execution_count": 10,
   "metadata": {},
   "outputs": [
    {
     "name": "stdout",
     "output_type": "stream",
     "text": [
      "The maximum price a house has in the dataframe is 27.975 Million dollars, while the minimum price is 0.359 Million dollars.\n"
     ]
    }
   ],
   "source": [
    "print('The maximum price a house has in the dataframe is', max(data.pricem), 'Million dollars, while the minimum price is', min(data.pricem), 'Million dollars.')"
   ]
  },
  {
   "cell_type": "markdown",
   "metadata": {},
   "source": [
    "# Categorize the data into three levels."
   ]
  },
  {
   "cell_type": "markdown",
   "metadata": {},
   "source": [
    "Assign a label 0 to the properties with listing price less than 0.8 million dollars, a label 1 to the properties with listing price between 0.8 to 1.6 million dollars, and a label 2 to the properties with listing price more than 1.6 million dollars."
   ]
  },
  {
   "cell_type": "code",
   "execution_count": 11,
   "metadata": {},
   "outputs": [
    {
     "data": {
      "text/html": [
       "<div>\n",
       "<style scoped>\n",
       "    .dataframe tbody tr th:only-of-type {\n",
       "        vertical-align: middle;\n",
       "    }\n",
       "\n",
       "    .dataframe tbody tr th {\n",
       "        vertical-align: top;\n",
       "    }\n",
       "\n",
       "    .dataframe thead th {\n",
       "        text-align: right;\n",
       "    }\n",
       "</style>\n",
       "<table border=\"1\" class=\"dataframe\">\n",
       "  <thead>\n",
       "    <tr style=\"text-align: right;\">\n",
       "      <th></th>\n",
       "      <th>price</th>\n",
       "      <th>region</th>\n",
       "      <th>bedrooms</th>\n",
       "      <th>bathrooms</th>\n",
       "      <th>pricem</th>\n",
       "      <th>label</th>\n",
       "    </tr>\n",
       "  </thead>\n",
       "  <tbody>\n",
       "    <tr>\n",
       "      <th>0</th>\n",
       "      <td>799000</td>\n",
       "      <td>Ajax</td>\n",
       "      <td>3</td>\n",
       "      <td>3</td>\n",
       "      <td>0.799000</td>\n",
       "      <td>0</td>\n",
       "    </tr>\n",
       "    <tr>\n",
       "      <th>1</th>\n",
       "      <td>989000</td>\n",
       "      <td>Ajax</td>\n",
       "      <td>2</td>\n",
       "      <td>1</td>\n",
       "      <td>0.989000</td>\n",
       "      <td>1</td>\n",
       "    </tr>\n",
       "    <tr>\n",
       "      <th>2</th>\n",
       "      <td>999900</td>\n",
       "      <td>Ajax</td>\n",
       "      <td>3</td>\n",
       "      <td>4</td>\n",
       "      <td>0.999900</td>\n",
       "      <td>1</td>\n",
       "    </tr>\n",
       "    <tr>\n",
       "      <th>3</th>\n",
       "      <td>799900</td>\n",
       "      <td>Ajax</td>\n",
       "      <td>3</td>\n",
       "      <td>3</td>\n",
       "      <td>0.799900</td>\n",
       "      <td>0</td>\n",
       "    </tr>\n",
       "    <tr>\n",
       "      <th>4</th>\n",
       "      <td>899999</td>\n",
       "      <td>Ajax</td>\n",
       "      <td>3</td>\n",
       "      <td>3</td>\n",
       "      <td>0.899999</td>\n",
       "      <td>1</td>\n",
       "    </tr>\n",
       "  </tbody>\n",
       "</table>\n",
       "</div>"
      ],
      "text/plain": [
       "    price region  bedrooms  bathrooms    pricem  label\n",
       "0  799000  Ajax          3          3  0.799000      0\n",
       "1  989000  Ajax          2          1  0.989000      1\n",
       "2  999900  Ajax          3          4  0.999900      1\n",
       "3  799900  Ajax          3          3  0.799900      0\n",
       "4  899999  Ajax          3          3  0.899999      1"
      ]
     },
     "execution_count": 11,
     "metadata": {},
     "output_type": "execute_result"
    }
   ],
   "source": [
    "data['label'] = 0\n",
    "data.loc[data.pricem < 0.8, 'label'] = 0\n",
    "data.loc[data.pricem > 0.8, 'label'] = 1\n",
    "data.loc[data.pricem > 1.6, 'label'] = 2\n",
    "data.head()"
   ]
  },
  {
   "cell_type": "code",
   "execution_count": 12,
   "metadata": {},
   "outputs": [
    {
     "name": "stdout",
     "output_type": "stream",
     "text": [
      "In the dataset, there are 2047 number of properties with a price less than 0.8 million dollars, 3421 number of properties with a price between 0.8 to 1.6 million dollars, and 1801 number of properties with a price more than 1.6 million dollars\n"
     ]
    }
   ],
   "source": [
    "print(\n",
    "    'In the dataset, there are '+ str(sum(data.label == 0))+ \" number of properties with a price less than 0.8 million dollars, \" \n",
    "    + str(sum(data.label == 1))+ \" number of properties with a price between 0.8 to 1.6 million dollars, and \"\n",
    "    + str(sum(data.label == 2))+ \" number of properties with a price more than 1.6 million dollars\"\n",
    ")"
   ]
  },
  {
   "cell_type": "code",
   "execution_count": 13,
   "metadata": {},
   "outputs": [
    {
     "data": {
      "text/plain": [
       "price          int64\n",
       "region        object\n",
       "bedrooms       int64\n",
       "bathrooms      int64\n",
       "pricem       float64\n",
       "label          int64\n",
       "dtype: object"
      ]
     },
     "execution_count": 13,
     "metadata": {},
     "output_type": "execute_result"
    }
   ],
   "source": [
    "data.dtypes"
   ]
  },
  {
   "cell_type": "code",
   "execution_count": 14,
   "metadata": {},
   "outputs": [
    {
     "data": {
      "text/plain": [
       "(7269, 6)"
      ]
     },
     "execution_count": 14,
     "metadata": {},
     "output_type": "execute_result"
    }
   ],
   "source": [
    "data.shape"
   ]
  },
  {
   "cell_type": "markdown",
   "metadata": {},
   "source": [
    "# Data pre-processing."
   ]
  },
  {
   "cell_type": "markdown",
   "metadata": {},
   "source": [
    "Output variable"
   ]
  },
  {
   "cell_type": "code",
   "execution_count": 15,
   "metadata": {},
   "outputs": [
    {
     "name": "stdout",
     "output_type": "stream",
     "text": [
      "7269\n"
     ]
    },
    {
     "data": {
      "text/plain": [
       "0       0\n",
       "1       1\n",
       "2       1\n",
       "3       0\n",
       "4       1\n",
       "       ..\n",
       "7319    2\n",
       "7320    0\n",
       "7321    1\n",
       "7322    0\n",
       "7323    2\n",
       "Name: label, Length: 7269, dtype: int64"
      ]
     },
     "execution_count": 15,
     "metadata": {},
     "output_type": "execute_result"
    }
   ],
   "source": [
    "Y = data.label\n",
    "print(len(Y))\n",
    "Y"
   ]
  },
  {
   "cell_type": "code",
   "execution_count": 16,
   "metadata": {},
   "outputs": [
    {
     "data": {
      "text/plain": [
       "array([0, 1, 2])"
      ]
     },
     "execution_count": 16,
     "metadata": {},
     "output_type": "execute_result"
    }
   ],
   "source": [
    "Y.unique()"
   ]
  },
  {
   "cell_type": "markdown",
   "metadata": {},
   "source": [
    "Get dummy variables for the **region** column."
   ]
  },
  {
   "cell_type": "code",
   "execution_count": 17,
   "metadata": {},
   "outputs": [
    {
     "name": "stdout",
     "output_type": "stream",
     "text": [
      "(7269, 33)\n"
     ]
    },
    {
     "data": {
      "text/html": [
       "<div>\n",
       "<style scoped>\n",
       "    .dataframe tbody tr th:only-of-type {\n",
       "        vertical-align: middle;\n",
       "    }\n",
       "\n",
       "    .dataframe tbody tr th {\n",
       "        vertical-align: top;\n",
       "    }\n",
       "\n",
       "    .dataframe thead th {\n",
       "        text-align: right;\n",
       "    }\n",
       "</style>\n",
       "<table border=\"1\" class=\"dataframe\">\n",
       "  <thead>\n",
       "    <tr style=\"text-align: right;\">\n",
       "      <th></th>\n",
       "      <th>bedrooms</th>\n",
       "      <th>bathrooms</th>\n",
       "      <th>region_Ajax</th>\n",
       "      <th>region_Aurora</th>\n",
       "      <th>region_Brampton</th>\n",
       "      <th>region_Brantford</th>\n",
       "      <th>region_Brock</th>\n",
       "      <th>region_Burlington</th>\n",
       "      <th>region_Caledon</th>\n",
       "      <th>region_Cambridge</th>\n",
       "      <th>...</th>\n",
       "      <th>region_Old Toronto Toronto</th>\n",
       "      <th>region_Oshawa</th>\n",
       "      <th>region_Pickering</th>\n",
       "      <th>region_Richmond Hill</th>\n",
       "      <th>region_Scarborough Toronto</th>\n",
       "      <th>region_Scugog</th>\n",
       "      <th>region_Uxbridge</th>\n",
       "      <th>region_Vaughan</th>\n",
       "      <th>region_Whitby</th>\n",
       "      <th>region_Whitchurch-Stouffville</th>\n",
       "    </tr>\n",
       "  </thead>\n",
       "  <tbody>\n",
       "    <tr>\n",
       "      <th>0</th>\n",
       "      <td>3</td>\n",
       "      <td>3</td>\n",
       "      <td>1</td>\n",
       "      <td>0</td>\n",
       "      <td>0</td>\n",
       "      <td>0</td>\n",
       "      <td>0</td>\n",
       "      <td>0</td>\n",
       "      <td>0</td>\n",
       "      <td>0</td>\n",
       "      <td>...</td>\n",
       "      <td>0</td>\n",
       "      <td>0</td>\n",
       "      <td>0</td>\n",
       "      <td>0</td>\n",
       "      <td>0</td>\n",
       "      <td>0</td>\n",
       "      <td>0</td>\n",
       "      <td>0</td>\n",
       "      <td>0</td>\n",
       "      <td>0</td>\n",
       "    </tr>\n",
       "    <tr>\n",
       "      <th>1</th>\n",
       "      <td>2</td>\n",
       "      <td>1</td>\n",
       "      <td>1</td>\n",
       "      <td>0</td>\n",
       "      <td>0</td>\n",
       "      <td>0</td>\n",
       "      <td>0</td>\n",
       "      <td>0</td>\n",
       "      <td>0</td>\n",
       "      <td>0</td>\n",
       "      <td>...</td>\n",
       "      <td>0</td>\n",
       "      <td>0</td>\n",
       "      <td>0</td>\n",
       "      <td>0</td>\n",
       "      <td>0</td>\n",
       "      <td>0</td>\n",
       "      <td>0</td>\n",
       "      <td>0</td>\n",
       "      <td>0</td>\n",
       "      <td>0</td>\n",
       "    </tr>\n",
       "    <tr>\n",
       "      <th>2</th>\n",
       "      <td>3</td>\n",
       "      <td>4</td>\n",
       "      <td>1</td>\n",
       "      <td>0</td>\n",
       "      <td>0</td>\n",
       "      <td>0</td>\n",
       "      <td>0</td>\n",
       "      <td>0</td>\n",
       "      <td>0</td>\n",
       "      <td>0</td>\n",
       "      <td>...</td>\n",
       "      <td>0</td>\n",
       "      <td>0</td>\n",
       "      <td>0</td>\n",
       "      <td>0</td>\n",
       "      <td>0</td>\n",
       "      <td>0</td>\n",
       "      <td>0</td>\n",
       "      <td>0</td>\n",
       "      <td>0</td>\n",
       "      <td>0</td>\n",
       "    </tr>\n",
       "    <tr>\n",
       "      <th>3</th>\n",
       "      <td>3</td>\n",
       "      <td>3</td>\n",
       "      <td>1</td>\n",
       "      <td>0</td>\n",
       "      <td>0</td>\n",
       "      <td>0</td>\n",
       "      <td>0</td>\n",
       "      <td>0</td>\n",
       "      <td>0</td>\n",
       "      <td>0</td>\n",
       "      <td>...</td>\n",
       "      <td>0</td>\n",
       "      <td>0</td>\n",
       "      <td>0</td>\n",
       "      <td>0</td>\n",
       "      <td>0</td>\n",
       "      <td>0</td>\n",
       "      <td>0</td>\n",
       "      <td>0</td>\n",
       "      <td>0</td>\n",
       "      <td>0</td>\n",
       "    </tr>\n",
       "    <tr>\n",
       "      <th>4</th>\n",
       "      <td>3</td>\n",
       "      <td>3</td>\n",
       "      <td>1</td>\n",
       "      <td>0</td>\n",
       "      <td>0</td>\n",
       "      <td>0</td>\n",
       "      <td>0</td>\n",
       "      <td>0</td>\n",
       "      <td>0</td>\n",
       "      <td>0</td>\n",
       "      <td>...</td>\n",
       "      <td>0</td>\n",
       "      <td>0</td>\n",
       "      <td>0</td>\n",
       "      <td>0</td>\n",
       "      <td>0</td>\n",
       "      <td>0</td>\n",
       "      <td>0</td>\n",
       "      <td>0</td>\n",
       "      <td>0</td>\n",
       "      <td>0</td>\n",
       "    </tr>\n",
       "  </tbody>\n",
       "</table>\n",
       "<p>5 rows × 33 columns</p>\n",
       "</div>"
      ],
      "text/plain": [
       "   bedrooms  bathrooms  region_Ajax   region_Aurora   region_Brampton   \\\n",
       "0         3          3             1               0                 0   \n",
       "1         2          1             1               0                 0   \n",
       "2         3          4             1               0                 0   \n",
       "3         3          3             1               0                 0   \n",
       "4         3          3             1               0                 0   \n",
       "\n",
       "   region_Brantford   region_Brock   region_Burlington   region_Caledon   \\\n",
       "0                  0              0                   0                0   \n",
       "1                  0              0                   0                0   \n",
       "2                  0              0                   0                0   \n",
       "3                  0              0                   0                0   \n",
       "4                  0              0                   0                0   \n",
       "\n",
       "   region_Cambridge   ...  region_Old Toronto Toronto   region_Oshawa   \\\n",
       "0                  0  ...                            0               0   \n",
       "1                  0  ...                            0               0   \n",
       "2                  0  ...                            0               0   \n",
       "3                  0  ...                            0               0   \n",
       "4                  0  ...                            0               0   \n",
       "\n",
       "   region_Pickering   region_Richmond Hill   region_Scarborough Toronto   \\\n",
       "0                  0                      0                            0   \n",
       "1                  0                      0                            0   \n",
       "2                  0                      0                            0   \n",
       "3                  0                      0                            0   \n",
       "4                  0                      0                            0   \n",
       "\n",
       "   region_Scugog   region_Uxbridge   region_Vaughan   region_Whitby   \\\n",
       "0               0                 0                0               0   \n",
       "1               0                 0                0               0   \n",
       "2               0                 0                0               0   \n",
       "3               0                 0                0               0   \n",
       "4               0                 0                0               0   \n",
       "\n",
       "   region_Whitchurch-Stouffville   \n",
       "0                               0  \n",
       "1                               0  \n",
       "2                               0  \n",
       "3                               0  \n",
       "4                               0  \n",
       "\n",
       "[5 rows x 33 columns]"
      ]
     },
     "execution_count": 17,
     "metadata": {},
     "output_type": "execute_result"
    }
   ],
   "source": [
    "X = pd.get_dummies(data.drop(columns= [\"price\", \"pricem\", \"label\"]), prefix= 'region')\n",
    "print(X.shape)\n",
    "X.head()"
   ]
  },
  {
   "cell_type": "markdown",
   "metadata": {},
   "source": [
    "Split data into training and testing datasets."
   ]
  },
  {
   "cell_type": "code",
   "execution_count": 18,
   "metadata": {},
   "outputs": [],
   "source": [
    "from sklearn.model_selection import train_test_split\n",
    "X_train, X_test, Y_train, Y_test  = train_test_split(X, Y, train_size= 0.80, random_state= 1)"
   ]
  },
  {
   "cell_type": "code",
   "execution_count": 19,
   "metadata": {},
   "outputs": [
    {
     "data": {
      "text/html": [
       "<div>\n",
       "<style scoped>\n",
       "    .dataframe tbody tr th:only-of-type {\n",
       "        vertical-align: middle;\n",
       "    }\n",
       "\n",
       "    .dataframe tbody tr th {\n",
       "        vertical-align: top;\n",
       "    }\n",
       "\n",
       "    .dataframe thead th {\n",
       "        text-align: right;\n",
       "    }\n",
       "</style>\n",
       "<table border=\"1\" class=\"dataframe\">\n",
       "  <thead>\n",
       "    <tr style=\"text-align: right;\">\n",
       "      <th></th>\n",
       "      <th>property_label</th>\n",
       "      <th>count</th>\n",
       "      <th>data_type</th>\n",
       "      <th>proportion</th>\n",
       "    </tr>\n",
       "  </thead>\n",
       "  <tbody>\n",
       "    <tr>\n",
       "      <th>0</th>\n",
       "      <td>0</td>\n",
       "      <td>1634</td>\n",
       "      <td>training</td>\n",
       "      <td>0.280997</td>\n",
       "    </tr>\n",
       "    <tr>\n",
       "      <th>1</th>\n",
       "      <td>1</td>\n",
       "      <td>2738</td>\n",
       "      <td>training</td>\n",
       "      <td>0.470851</td>\n",
       "    </tr>\n",
       "    <tr>\n",
       "      <th>2</th>\n",
       "      <td>2</td>\n",
       "      <td>1443</td>\n",
       "      <td>training</td>\n",
       "      <td>0.248151</td>\n",
       "    </tr>\n",
       "    <tr>\n",
       "      <th>3</th>\n",
       "      <td>0</td>\n",
       "      <td>413</td>\n",
       "      <td>testing</td>\n",
       "      <td>0.284044</td>\n",
       "    </tr>\n",
       "    <tr>\n",
       "      <th>4</th>\n",
       "      <td>1</td>\n",
       "      <td>683</td>\n",
       "      <td>testing</td>\n",
       "      <td>0.469739</td>\n",
       "    </tr>\n",
       "    <tr>\n",
       "      <th>5</th>\n",
       "      <td>2</td>\n",
       "      <td>358</td>\n",
       "      <td>testing</td>\n",
       "      <td>0.246217</td>\n",
       "    </tr>\n",
       "  </tbody>\n",
       "</table>\n",
       "</div>"
      ],
      "text/plain": [
       "   property_label  count data_type  proportion\n",
       "0               0   1634  training    0.280997\n",
       "1               1   2738  training    0.470851\n",
       "2               2   1443  training    0.248151\n",
       "3               0    413   testing    0.284044\n",
       "4               1    683   testing    0.469739\n",
       "5               2    358   testing    0.246217"
      ]
     },
     "execution_count": 19,
     "metadata": {},
     "output_type": "execute_result"
    }
   ],
   "source": [
    "d1 = pd.DataFrame({\n",
    "    \"property_label\" : [0, 1, 2],\n",
    "    \"count\" : [sum(Y_train == 0), sum(Y_train == 1), sum(Y_train == 2)],\n",
    "    \"data_type\" : [\"training\", \"training\", \"training\"]\n",
    "    \n",
    "})\n",
    "d1[\"proportion\"] = d1[\"count\"]/d1[\"count\"].sum()\n",
    "\n",
    "d2 = pd.DataFrame({\n",
    "    \"property_label\" : [0, 1, 2],\n",
    "    \"count\" : [sum(Y_test == 0), sum(Y_test == 1), sum(Y_test == 2)],\n",
    "    \"data_type\" : [\"testing\", \"testing\", \"testing\"]\n",
    "    \n",
    "})\n",
    "d2[\"proportion\"] = d2[\"count\"]/d2[\"count\"].sum()\n",
    "\n",
    "df_concat = pd.concat([d1, d2]).reset_index().drop(columns= [\"index\"])\n",
    "df_concat"
   ]
  },
  {
   "cell_type": "code",
   "execution_count": 20,
   "metadata": {},
   "outputs": [
    {
     "name": "stdout",
     "output_type": "stream",
     "text": [
      "Training dataset contains 80.0 % of the total data.\n"
     ]
    }
   ],
   "source": [
    "train_size = 0.8\n",
    "print(\"Training dataset contains \" + str(train_size*100) + \" %\" + \" of the total data.\")"
   ]
  },
  {
   "cell_type": "code",
   "execution_count": 21,
   "metadata": {},
   "outputs": [
    {
     "name": "stdout",
     "output_type": "stream",
     "text": [
      "(5815, 33)\n",
      "(1454, 33)\n",
      "(5815,)\n",
      "(1454,)\n"
     ]
    }
   ],
   "source": [
    "print(X_train.shape)\n",
    "print(X_test.shape)\n",
    "print(Y_train.shape)\n",
    "print(Y_test.shape)"
   ]
  },
  {
   "cell_type": "code",
   "execution_count": 22,
   "metadata": {},
   "outputs": [
    {
     "data": {
      "text/plain": [
       "Text(0.5, 1.0, 'Proportion of Property Types')"
      ]
     },
     "execution_count": 22,
     "metadata": {},
     "output_type": "execute_result"
    },
    {
     "data": {
      "image/png": "[encoded data removed]",
      "text/plain": [
       "<Figure size 474.025x360 with 1 Axes>"
      ]
     },
     "metadata": {},
     "output_type": "display_data"
    }
   ],
   "source": [
    "sns.set(font_scale=1.5)\n",
    "sns.set_style('whitegrid')\n",
    "sns.catplot(\n",
    "    data = df_concat, \n",
    "    x = \"property_label\",\n",
    "    y = \"proportion\",\n",
    "    hue = \"data_type\",\n",
    "    kind = \"bar\",\n",
    "    height= 5\n",
    ")\n",
    "plt.xlabel('Property Label')\n",
    "plt.ylabel('Proportion')\n",
    "plt.title('Proportion of Property Types')"
   ]
  },
  {
   "cell_type": "markdown",
   "metadata": {},
   "source": [
    "The above figure shows that both the training as well as testing datasets contain alomost the same amout of proportions of different propert labels."
   ]
  },
  {
   "cell_type": "markdown",
   "metadata": {},
   "source": [
    "# K-Nearest Neighbors Model."
   ]
  },
  {
   "cell_type": "code",
   "execution_count": 23,
   "metadata": {},
   "outputs": [
    {
     "data": {
      "text/plain": [
       "KNeighborsClassifier()"
      ]
     },
     "execution_count": 23,
     "metadata": {},
     "output_type": "execute_result"
    }
   ],
   "source": [
    "from sklearn.neighbors import KNeighborsClassifier\n",
    "knn = KNeighborsClassifier()\n",
    "knn.fit(X_train, Y_train)"
   ]
  },
  {
   "cell_type": "code",
   "execution_count": 24,
   "metadata": {},
   "outputs": [
    {
     "data": {
      "text/plain": [
       "0.7097661623108665"
      ]
     },
     "execution_count": 24,
     "metadata": {},
     "output_type": "execute_result"
    }
   ],
   "source": [
    "accuracy_score(Y_test, knn.predict(X_test))"
   ]
  },
  {
   "cell_type": "markdown",
   "metadata": {},
   "source": [
    "GridSearchCV for hyperparameter tuning."
   ]
  },
  {
   "cell_type": "code",
   "execution_count": 25,
   "metadata": {},
   "outputs": [
    {
     "data": {
      "text/plain": [
       "GridSearchCV(cv=5, estimator=KNeighborsClassifier(),\n",
       "             param_grid={'n_neighbors': range(1, 30),\n",
       "                         'weights': ('uniform', 'distance')},\n",
       "             return_train_score=True)"
      ]
     },
     "execution_count": 25,
     "metadata": {},
     "output_type": "execute_result"
    }
   ],
   "source": [
    "t1 = time.time()\n",
    "parameters = {\n",
    "    'n_neighbors' : range(1,30),\n",
    "    'weights' : ('uniform', 'distance')\n",
    "}\n",
    "gs_knn = GridSearchCV(\n",
    "    estimator= knn,\n",
    "    param_grid= parameters,\n",
    "    cv = 5,\n",
    "    return_train_score= True\n",
    "    )\n",
    "gs_knn.fit(X_train, Y_train)"
   ]
  },
  {
   "cell_type": "code",
   "execution_count": 26,
   "metadata": {},
   "outputs": [
    {
     "name": "stdout",
     "output_type": "stream",
     "text": [
      "Hyperparameter tuning for the K-Nearest Neighbors model took 136.4653811454773 seconds.\n"
     ]
    }
   ],
   "source": [
    "time_knn = time.time()-t1\n",
    "print('Hyperparameter tuning for the K-Nearest Neighbors model took', time_knn, 'seconds.')"
   ]
  },
  {
   "cell_type": "markdown",
   "metadata": {},
   "source": [
    "Best score obtained for the hyperparameter tuning cross-validation."
   ]
  },
  {
   "cell_type": "code",
   "execution_count": 27,
   "metadata": {},
   "outputs": [
    {
     "data": {
      "text/plain": [
       "0.7263972484952709"
      ]
     },
     "execution_count": 27,
     "metadata": {},
     "output_type": "execute_result"
    }
   ],
   "source": [
    "gs_knn.best_score_"
   ]
  },
  {
   "cell_type": "markdown",
   "metadata": {},
   "source": [
    "Best parameter values after the hyperparameter tuning."
   ]
  },
  {
   "cell_type": "code",
   "execution_count": 28,
   "metadata": {},
   "outputs": [
    {
     "data": {
      "text/plain": [
       "{'n_neighbors': 25, 'weights': 'uniform'}"
      ]
     },
     "execution_count": 28,
     "metadata": {},
     "output_type": "execute_result"
    }
   ],
   "source": [
    "gs_knn.best_params_"
   ]
  },
  {
   "cell_type": "code",
   "execution_count": 29,
   "metadata": {},
   "outputs": [
    {
     "data": {
      "text/plain": [
       "Index(['mean_fit_time', 'std_fit_time', 'mean_score_time', 'std_score_time',\n",
       "       'param_n_neighbors', 'param_weights', 'params', 'split0_test_score',\n",
       "       'split1_test_score', 'split2_test_score', 'split3_test_score',\n",
       "       'split4_test_score', 'mean_test_score', 'std_test_score',\n",
       "       'rank_test_score', 'split0_train_score', 'split1_train_score',\n",
       "       'split2_train_score', 'split3_train_score', 'split4_train_score',\n",
       "       'mean_train_score', 'std_train_score'],\n",
       "      dtype='object')"
      ]
     },
     "execution_count": 29,
     "metadata": {},
     "output_type": "execute_result"
    }
   ],
   "source": [
    "gs_results  = pd.DataFrame(gs_knn.cv_results_)\n",
    "gs_results.columns"
   ]
  },
  {
   "cell_type": "code",
   "execution_count": 30,
   "metadata": {},
   "outputs": [
    {
     "data": {
      "text/html": [
       "<div>\n",
       "<style scoped>\n",
       "    .dataframe tbody tr th:only-of-type {\n",
       "        vertical-align: middle;\n",
       "    }\n",
       "\n",
       "    .dataframe tbody tr th {\n",
       "        vertical-align: top;\n",
       "    }\n",
       "\n",
       "    .dataframe thead th {\n",
       "        text-align: right;\n",
       "    }\n",
       "</style>\n",
       "<table border=\"1\" class=\"dataframe\">\n",
       "  <thead>\n",
       "    <tr style=\"text-align: right;\">\n",
       "      <th></th>\n",
       "      <th>mean_test_score</th>\n",
       "      <th>mean_train_score</th>\n",
       "      <th>params</th>\n",
       "    </tr>\n",
       "  </thead>\n",
       "  <tbody>\n",
       "    <tr>\n",
       "      <th>0</th>\n",
       "      <td>0.653482</td>\n",
       "      <td>0.687919</td>\n",
       "      <td>{'n_neighbors': 1, 'weights': 'uniform'}</td>\n",
       "    </tr>\n",
       "    <tr>\n",
       "      <th>1</th>\n",
       "      <td>0.653482</td>\n",
       "      <td>0.687919</td>\n",
       "      <td>{'n_neighbors': 1, 'weights': 'distance'}</td>\n",
       "    </tr>\n",
       "    <tr>\n",
       "      <th>2</th>\n",
       "      <td>0.674463</td>\n",
       "      <td>0.710404</td>\n",
       "      <td>{'n_neighbors': 2, 'weights': 'uniform'}</td>\n",
       "    </tr>\n",
       "    <tr>\n",
       "      <th>3</th>\n",
       "      <td>0.675838</td>\n",
       "      <td>0.717240</td>\n",
       "      <td>{'n_neighbors': 2, 'weights': 'distance'}</td>\n",
       "    </tr>\n",
       "    <tr>\n",
       "      <th>4</th>\n",
       "      <td>0.681513</td>\n",
       "      <td>0.719991</td>\n",
       "      <td>{'n_neighbors': 3, 'weights': 'uniform'}</td>\n",
       "    </tr>\n",
       "    <tr>\n",
       "      <th>5</th>\n",
       "      <td>0.682545</td>\n",
       "      <td>0.727730</td>\n",
       "      <td>{'n_neighbors': 3, 'weights': 'distance'}</td>\n",
       "    </tr>\n",
       "    <tr>\n",
       "      <th>6</th>\n",
       "      <td>0.686156</td>\n",
       "      <td>0.723818</td>\n",
       "      <td>{'n_neighbors': 4, 'weights': 'uniform'}</td>\n",
       "    </tr>\n",
       "    <tr>\n",
       "      <th>7</th>\n",
       "      <td>0.684953</td>\n",
       "      <td>0.734695</td>\n",
       "      <td>{'n_neighbors': 4, 'weights': 'distance'}</td>\n",
       "    </tr>\n",
       "    <tr>\n",
       "      <th>8</th>\n",
       "      <td>0.690800</td>\n",
       "      <td>0.733362</td>\n",
       "      <td>{'n_neighbors': 5, 'weights': 'uniform'}</td>\n",
       "    </tr>\n",
       "    <tr>\n",
       "      <th>9</th>\n",
       "      <td>0.690112</td>\n",
       "      <td>0.745314</td>\n",
       "      <td>{'n_neighbors': 5, 'weights': 'distance'}</td>\n",
       "    </tr>\n",
       "    <tr>\n",
       "      <th>10</th>\n",
       "      <td>0.703353</td>\n",
       "      <td>0.735211</td>\n",
       "      <td>{'n_neighbors': 6, 'weights': 'uniform'}</td>\n",
       "    </tr>\n",
       "    <tr>\n",
       "      <th>11</th>\n",
       "      <td>0.701806</td>\n",
       "      <td>0.749269</td>\n",
       "      <td>{'n_neighbors': 6, 'weights': 'distance'}</td>\n",
       "    </tr>\n",
       "    <tr>\n",
       "      <th>12</th>\n",
       "      <td>0.704901</td>\n",
       "      <td>0.736586</td>\n",
       "      <td>{'n_neighbors': 7, 'weights': 'uniform'}</td>\n",
       "    </tr>\n",
       "    <tr>\n",
       "      <th>13</th>\n",
       "      <td>0.701462</td>\n",
       "      <td>0.751204</td>\n",
       "      <td>{'n_neighbors': 7, 'weights': 'distance'}</td>\n",
       "    </tr>\n",
       "    <tr>\n",
       "      <th>14</th>\n",
       "      <td>0.710232</td>\n",
       "      <td>0.734007</td>\n",
       "      <td>{'n_neighbors': 8, 'weights': 'uniform'}</td>\n",
       "    </tr>\n",
       "    <tr>\n",
       "      <th>15</th>\n",
       "      <td>0.706965</td>\n",
       "      <td>0.750989</td>\n",
       "      <td>{'n_neighbors': 8, 'weights': 'distance'}</td>\n",
       "    </tr>\n",
       "    <tr>\n",
       "      <th>16</th>\n",
       "      <td>0.709372</td>\n",
       "      <td>0.737360</td>\n",
       "      <td>{'n_neighbors': 9, 'weights': 'uniform'}</td>\n",
       "    </tr>\n",
       "    <tr>\n",
       "      <th>17</th>\n",
       "      <td>0.706965</td>\n",
       "      <td>0.754170</td>\n",
       "      <td>{'n_neighbors': 9, 'weights': 'distance'}</td>\n",
       "    </tr>\n",
       "    <tr>\n",
       "      <th>18</th>\n",
       "      <td>0.715219</td>\n",
       "      <td>0.738693</td>\n",
       "      <td>{'n_neighbors': 10, 'weights': 'uniform'}</td>\n",
       "    </tr>\n",
       "    <tr>\n",
       "      <th>19</th>\n",
       "      <td>0.710920</td>\n",
       "      <td>0.757094</td>\n",
       "      <td>{'n_neighbors': 10, 'weights': 'distance'}</td>\n",
       "    </tr>\n",
       "    <tr>\n",
       "      <th>20</th>\n",
       "      <td>0.717283</td>\n",
       "      <td>0.740456</td>\n",
       "      <td>{'n_neighbors': 11, 'weights': 'uniform'}</td>\n",
       "    </tr>\n",
       "    <tr>\n",
       "      <th>21</th>\n",
       "      <td>0.713672</td>\n",
       "      <td>0.759501</td>\n",
       "      <td>{'n_neighbors': 11, 'weights': 'distance'}</td>\n",
       "    </tr>\n",
       "    <tr>\n",
       "      <th>22</th>\n",
       "      <td>0.720722</td>\n",
       "      <td>0.739596</td>\n",
       "      <td>{'n_neighbors': 12, 'weights': 'uniform'}</td>\n",
       "    </tr>\n",
       "    <tr>\n",
       "      <th>23</th>\n",
       "      <td>0.718315</td>\n",
       "      <td>0.759716</td>\n",
       "      <td>{'n_neighbors': 12, 'weights': 'distance'}</td>\n",
       "    </tr>\n",
       "    <tr>\n",
       "      <th>24</th>\n",
       "      <td>0.718659</td>\n",
       "      <td>0.739725</td>\n",
       "      <td>{'n_neighbors': 13, 'weights': 'uniform'}</td>\n",
       "    </tr>\n",
       "    <tr>\n",
       "      <th>25</th>\n",
       "      <td>0.717111</td>\n",
       "      <td>0.761479</td>\n",
       "      <td>{'n_neighbors': 13, 'weights': 'distance'}</td>\n",
       "    </tr>\n",
       "    <tr>\n",
       "      <th>26</th>\n",
       "      <td>0.721238</td>\n",
       "      <td>0.738564</td>\n",
       "      <td>{'n_neighbors': 14, 'weights': 'uniform'}</td>\n",
       "    </tr>\n",
       "    <tr>\n",
       "      <th>27</th>\n",
       "      <td>0.718659</td>\n",
       "      <td>0.761866</td>\n",
       "      <td>{'n_neighbors': 14, 'weights': 'distance'}</td>\n",
       "    </tr>\n",
       "    <tr>\n",
       "      <th>28</th>\n",
       "      <td>0.720894</td>\n",
       "      <td>0.738392</td>\n",
       "      <td>{'n_neighbors': 15, 'weights': 'uniform'}</td>\n",
       "    </tr>\n",
       "    <tr>\n",
       "      <th>29</th>\n",
       "      <td>0.717283</td>\n",
       "      <td>0.762425</td>\n",
       "      <td>{'n_neighbors': 15, 'weights': 'distance'}</td>\n",
       "    </tr>\n",
       "    <tr>\n",
       "      <th>30</th>\n",
       "      <td>0.721926</td>\n",
       "      <td>0.737446</td>\n",
       "      <td>{'n_neighbors': 16, 'weights': 'uniform'}</td>\n",
       "    </tr>\n",
       "    <tr>\n",
       "      <th>31</th>\n",
       "      <td>0.717799</td>\n",
       "      <td>0.761952</td>\n",
       "      <td>{'n_neighbors': 16, 'weights': 'distance'}</td>\n",
       "    </tr>\n",
       "    <tr>\n",
       "      <th>32</th>\n",
       "      <td>0.723130</td>\n",
       "      <td>0.739209</td>\n",
       "      <td>{'n_neighbors': 17, 'weights': 'uniform'}</td>\n",
       "    </tr>\n",
       "    <tr>\n",
       "      <th>33</th>\n",
       "      <td>0.717111</td>\n",
       "      <td>0.763672</td>\n",
       "      <td>{'n_neighbors': 17, 'weights': 'distance'}</td>\n",
       "    </tr>\n",
       "    <tr>\n",
       "      <th>34</th>\n",
       "      <td>0.720034</td>\n",
       "      <td>0.737360</td>\n",
       "      <td>{'n_neighbors': 18, 'weights': 'uniform'}</td>\n",
       "    </tr>\n",
       "    <tr>\n",
       "      <th>35</th>\n",
       "      <td>0.716939</td>\n",
       "      <td>0.763500</td>\n",
       "      <td>{'n_neighbors': 18, 'weights': 'distance'}</td>\n",
       "    </tr>\n",
       "    <tr>\n",
       "      <th>36</th>\n",
       "      <td>0.722614</td>\n",
       "      <td>0.738822</td>\n",
       "      <td>{'n_neighbors': 19, 'weights': 'uniform'}</td>\n",
       "    </tr>\n",
       "    <tr>\n",
       "      <th>37</th>\n",
       "      <td>0.717283</td>\n",
       "      <td>0.764617</td>\n",
       "      <td>{'n_neighbors': 19, 'weights': 'distance'}</td>\n",
       "    </tr>\n",
       "    <tr>\n",
       "      <th>38</th>\n",
       "      <td>0.720722</td>\n",
       "      <td>0.739553</td>\n",
       "      <td>{'n_neighbors': 20, 'weights': 'uniform'}</td>\n",
       "    </tr>\n",
       "    <tr>\n",
       "      <th>39</th>\n",
       "      <td>0.716767</td>\n",
       "      <td>0.766079</td>\n",
       "      <td>{'n_neighbors': 20, 'weights': 'distance'}</td>\n",
       "    </tr>\n",
       "    <tr>\n",
       "      <th>40</th>\n",
       "      <td>0.722270</td>\n",
       "      <td>0.740886</td>\n",
       "      <td>{'n_neighbors': 21, 'weights': 'uniform'}</td>\n",
       "    </tr>\n",
       "    <tr>\n",
       "      <th>41</th>\n",
       "      <td>0.718143</td>\n",
       "      <td>0.767283</td>\n",
       "      <td>{'n_neighbors': 21, 'weights': 'distance'}</td>\n",
       "    </tr>\n",
       "    <tr>\n",
       "      <th>42</th>\n",
       "      <td>0.723818</td>\n",
       "      <td>0.739338</td>\n",
       "      <td>{'n_neighbors': 22, 'weights': 'uniform'}</td>\n",
       "    </tr>\n",
       "    <tr>\n",
       "      <th>43</th>\n",
       "      <td>0.718143</td>\n",
       "      <td>0.767412</td>\n",
       "      <td>{'n_neighbors': 22, 'weights': 'distance'}</td>\n",
       "    </tr>\n",
       "    <tr>\n",
       "      <th>44</th>\n",
       "      <td>0.724334</td>\n",
       "      <td>0.738951</td>\n",
       "      <td>{'n_neighbors': 23, 'weights': 'uniform'}</td>\n",
       "    </tr>\n",
       "    <tr>\n",
       "      <th>45</th>\n",
       "      <td>0.717799</td>\n",
       "      <td>0.767670</td>\n",
       "      <td>{'n_neighbors': 23, 'weights': 'distance'}</td>\n",
       "    </tr>\n",
       "    <tr>\n",
       "      <th>46</th>\n",
       "      <td>0.725365</td>\n",
       "      <td>0.737231</td>\n",
       "      <td>{'n_neighbors': 24, 'weights': 'uniform'}</td>\n",
       "    </tr>\n",
       "    <tr>\n",
       "      <th>47</th>\n",
       "      <td>0.717455</td>\n",
       "      <td>0.767541</td>\n",
       "      <td>{'n_neighbors': 24, 'weights': 'distance'}</td>\n",
       "    </tr>\n",
       "    <tr>\n",
       "      <th>48</th>\n",
       "      <td>0.726397</td>\n",
       "      <td>0.737403</td>\n",
       "      <td>{'n_neighbors': 25, 'weights': 'uniform'}</td>\n",
       "    </tr>\n",
       "    <tr>\n",
       "      <th>49</th>\n",
       "      <td>0.718143</td>\n",
       "      <td>0.767799</td>\n",
       "      <td>{'n_neighbors': 25, 'weights': 'distance'}</td>\n",
       "    </tr>\n",
       "    <tr>\n",
       "      <th>50</th>\n",
       "      <td>0.725193</td>\n",
       "      <td>0.737016</td>\n",
       "      <td>{'n_neighbors': 26, 'weights': 'uniform'}</td>\n",
       "    </tr>\n",
       "    <tr>\n",
       "      <th>51</th>\n",
       "      <td>0.718487</td>\n",
       "      <td>0.767369</td>\n",
       "      <td>{'n_neighbors': 26, 'weights': 'distance'}</td>\n",
       "    </tr>\n",
       "    <tr>\n",
       "      <th>52</th>\n",
       "      <td>0.724334</td>\n",
       "      <td>0.737704</td>\n",
       "      <td>{'n_neighbors': 27, 'weights': 'uniform'}</td>\n",
       "    </tr>\n",
       "    <tr>\n",
       "      <th>53</th>\n",
       "      <td>0.718143</td>\n",
       "      <td>0.767541</td>\n",
       "      <td>{'n_neighbors': 27, 'weights': 'distance'}</td>\n",
       "    </tr>\n",
       "    <tr>\n",
       "      <th>54</th>\n",
       "      <td>0.724162</td>\n",
       "      <td>0.736328</td>\n",
       "      <td>{'n_neighbors': 28, 'weights': 'uniform'}</td>\n",
       "    </tr>\n",
       "    <tr>\n",
       "      <th>55</th>\n",
       "      <td>0.718831</td>\n",
       "      <td>0.767369</td>\n",
       "      <td>{'n_neighbors': 28, 'weights': 'distance'}</td>\n",
       "    </tr>\n",
       "    <tr>\n",
       "      <th>56</th>\n",
       "      <td>0.724678</td>\n",
       "      <td>0.736071</td>\n",
       "      <td>{'n_neighbors': 29, 'weights': 'uniform'}</td>\n",
       "    </tr>\n",
       "    <tr>\n",
       "      <th>57</th>\n",
       "      <td>0.717283</td>\n",
       "      <td>0.767412</td>\n",
       "      <td>{'n_neighbors': 29, 'weights': 'distance'}</td>\n",
       "    </tr>\n",
       "  </tbody>\n",
       "</table>\n",
       "</div>"
      ],
      "text/plain": [
       "    mean_test_score  mean_train_score  \\\n",
       "0          0.653482          0.687919   \n",
       "1          0.653482          0.687919   \n",
       "2          0.674463          0.710404   \n",
       "3          0.675838          0.717240   \n",
       "4          0.681513          0.719991   \n",
       "5          0.682545          0.727730   \n",
       "6          0.686156          0.723818   \n",
       "7          0.684953          0.734695   \n",
       "8          0.690800          0.733362   \n",
       "9          0.690112          0.745314   \n",
       "10         0.703353          0.735211   \n",
       "11         0.701806          0.749269   \n",
       "12         0.704901          0.736586   \n",
       "13         0.701462          0.751204   \n",
       "14         0.710232          0.734007   \n",
       "15         0.706965          0.750989   \n",
       "16         0.709372          0.737360   \n",
       "17         0.706965          0.754170   \n",
       "18         0.715219          0.738693   \n",
       "19         0.710920          0.757094   \n",
       "20         0.717283          0.740456   \n",
       "21         0.713672          0.759501   \n",
       "22         0.720722          0.739596   \n",
       "23         0.718315          0.759716   \n",
       "24         0.718659          0.739725   \n",
       "25         0.717111          0.761479   \n",
       "26         0.721238          0.738564   \n",
       "27         0.718659          0.761866   \n",
       "28         0.720894          0.738392   \n",
       "29         0.717283          0.762425   \n",
       "30         0.721926          0.737446   \n",
       "31         0.717799          0.761952   \n",
       "32         0.723130          0.739209   \n",
       "33         0.717111          0.763672   \n",
       "34         0.720034          0.737360   \n",
       "35         0.716939          0.763500   \n",
       "36         0.722614          0.738822   \n",
       "37         0.717283          0.764617   \n",
       "38         0.720722          0.739553   \n",
       "39         0.716767          0.766079   \n",
       "40         0.722270          0.740886   \n",
       "41         0.718143          0.767283   \n",
       "42         0.723818          0.739338   \n",
       "43         0.718143          0.767412   \n",
       "44         0.724334          0.738951   \n",
       "45         0.717799          0.767670   \n",
       "46         0.725365          0.737231   \n",
       "47         0.717455          0.767541   \n",
       "48         0.726397          0.737403   \n",
       "49         0.718143          0.767799   \n",
       "50         0.725193          0.737016   \n",
       "51         0.718487          0.767369   \n",
       "52         0.724334          0.737704   \n",
       "53         0.718143          0.767541   \n",
       "54         0.724162          0.736328   \n",
       "55         0.718831          0.767369   \n",
       "56         0.724678          0.736071   \n",
       "57         0.717283          0.767412   \n",
       "\n",
       "                                        params  \n",
       "0     {'n_neighbors': 1, 'weights': 'uniform'}  \n",
       "1    {'n_neighbors': 1, 'weights': 'distance'}  \n",
       "2     {'n_neighbors': 2, 'weights': 'uniform'}  \n",
       "3    {'n_neighbors': 2, 'weights': 'distance'}  \n",
       "4     {'n_neighbors': 3, 'weights': 'uniform'}  \n",
       "5    {'n_neighbors': 3, 'weights': 'distance'}  \n",
       "6     {'n_neighbors': 4, 'weights': 'uniform'}  \n",
       "7    {'n_neighbors': 4, 'weights': 'distance'}  \n",
       "8     {'n_neighbors': 5, 'weights': 'uniform'}  \n",
       "9    {'n_neighbors': 5, 'weights': 'distance'}  \n",
       "10    {'n_neighbors': 6, 'weights': 'uniform'}  \n",
       "11   {'n_neighbors': 6, 'weights': 'distance'}  \n",
       "12    {'n_neighbors': 7, 'weights': 'uniform'}  \n",
       "13   {'n_neighbors': 7, 'weights': 'distance'}  \n",
       "14    {'n_neighbors': 8, 'weights': 'uniform'}  \n",
       "15   {'n_neighbors': 8, 'weights': 'distance'}  \n",
       "16    {'n_neighbors': 9, 'weights': 'uniform'}  \n",
       "17   {'n_neighbors': 9, 'weights': 'distance'}  \n",
       "18   {'n_neighbors': 10, 'weights': 'uniform'}  \n",
       "19  {'n_neighbors': 10, 'weights': 'distance'}  \n",
       "20   {'n_neighbors': 11, 'weights': 'uniform'}  \n",
       "21  {'n_neighbors': 11, 'weights': 'distance'}  \n",
       "22   {'n_neighbors': 12, 'weights': 'uniform'}  \n",
       "23  {'n_neighbors': 12, 'weights': 'distance'}  \n",
       "24   {'n_neighbors': 13, 'weights': 'uniform'}  \n",
       "25  {'n_neighbors': 13, 'weights': 'distance'}  \n",
       "26   {'n_neighbors': 14, 'weights': 'uniform'}  \n",
       "27  {'n_neighbors': 14, 'weights': 'distance'}  \n",
       "28   {'n_neighbors': 15, 'weights': 'uniform'}  \n",
       "29  {'n_neighbors': 15, 'weights': 'distance'}  \n",
       "30   {'n_neighbors': 16, 'weights': 'uniform'}  \n",
       "31  {'n_neighbors': 16, 'weights': 'distance'}  \n",
       "32   {'n_neighbors': 17, 'weights': 'uniform'}  \n",
       "33  {'n_neighbors': 17, 'weights': 'distance'}  \n",
       "34   {'n_neighbors': 18, 'weights': 'uniform'}  \n",
       "35  {'n_neighbors': 18, 'weights': 'distance'}  \n",
       "36   {'n_neighbors': 19, 'weights': 'uniform'}  \n",
       "37  {'n_neighbors': 19, 'weights': 'distance'}  \n",
       "38   {'n_neighbors': 20, 'weights': 'uniform'}  \n",
       "39  {'n_neighbors': 20, 'weights': 'distance'}  \n",
       "40   {'n_neighbors': 21, 'weights': 'uniform'}  \n",
       "41  {'n_neighbors': 21, 'weights': 'distance'}  \n",
       "42   {'n_neighbors': 22, 'weights': 'uniform'}  \n",
       "43  {'n_neighbors': 22, 'weights': 'distance'}  \n",
       "44   {'n_neighbors': 23, 'weights': 'uniform'}  \n",
       "45  {'n_neighbors': 23, 'weights': 'distance'}  \n",
       "46   {'n_neighbors': 24, 'weights': 'uniform'}  \n",
       "47  {'n_neighbors': 24, 'weights': 'distance'}  \n",
       "48   {'n_neighbors': 25, 'weights': 'uniform'}  \n",
       "49  {'n_neighbors': 25, 'weights': 'distance'}  \n",
       "50   {'n_neighbors': 26, 'weights': 'uniform'}  \n",
       "51  {'n_neighbors': 26, 'weights': 'distance'}  \n",
       "52   {'n_neighbors': 27, 'weights': 'uniform'}  \n",
       "53  {'n_neighbors': 27, 'weights': 'distance'}  \n",
       "54   {'n_neighbors': 28, 'weights': 'uniform'}  \n",
       "55  {'n_neighbors': 28, 'weights': 'distance'}  \n",
       "56   {'n_neighbors': 29, 'weights': 'uniform'}  \n",
       "57  {'n_neighbors': 29, 'weights': 'distance'}  "
      ]
     },
     "execution_count": 30,
     "metadata": {},
     "output_type": "execute_result"
    }
   ],
   "source": [
    "gs_results = gs_results[['mean_test_score', 'mean_train_score', 'params']]\n",
    "gs_results"
   ]
  },
  {
   "cell_type": "markdown",
   "metadata": {},
   "source": [
    "Mean value for testing and training score after hyperparameter cross validation."
   ]
  },
  {
   "cell_type": "code",
   "execution_count": 31,
   "metadata": {},
   "outputs": [
    {
     "data": {
      "text/html": [
       "<div>\n",
       "<style scoped>\n",
       "    .dataframe tbody tr th:only-of-type {\n",
       "        vertical-align: middle;\n",
       "    }\n",
       "\n",
       "    .dataframe tbody tr th {\n",
       "        vertical-align: top;\n",
       "    }\n",
       "\n",
       "    .dataframe thead th {\n",
       "        text-align: right;\n",
       "    }\n",
       "</style>\n",
       "<table border=\"1\" class=\"dataframe\">\n",
       "  <thead>\n",
       "    <tr style=\"text-align: right;\">\n",
       "      <th></th>\n",
       "      <th>mean_test_score</th>\n",
       "      <th>mean_train_score</th>\n",
       "      <th>params</th>\n",
       "    </tr>\n",
       "  </thead>\n",
       "  <tbody>\n",
       "    <tr>\n",
       "      <th>48</th>\n",
       "      <td>0.726397</td>\n",
       "      <td>0.737403</td>\n",
       "      <td>{'n_neighbors': 25, 'weights': 'uniform'}</td>\n",
       "    </tr>\n",
       "  </tbody>\n",
       "</table>\n",
       "</div>"
      ],
      "text/plain": [
       "    mean_test_score  mean_train_score  \\\n",
       "48         0.726397          0.737403   \n",
       "\n",
       "                                       params  \n",
       "48  {'n_neighbors': 25, 'weights': 'uniform'}  "
      ]
     },
     "execution_count": 31,
     "metadata": {},
     "output_type": "execute_result"
    }
   ],
   "source": [
    "gs_results.loc[gs_results.params == gs_knn.best_params_]"
   ]
  },
  {
   "cell_type": "markdown",
   "metadata": {},
   "source": [
    "K-Nearest Neighbors model accuracy with optimized parameters."
   ]
  },
  {
   "cell_type": "code",
   "execution_count": 32,
   "metadata": {},
   "outputs": [
    {
     "data": {
      "text/plain": [
       "0.7379642365887208"
      ]
     },
     "execution_count": 32,
     "metadata": {},
     "output_type": "execute_result"
    }
   ],
   "source": [
    "knn_optimized = KNeighborsClassifier(\n",
    "    n_neighbors= gs_knn.best_params_['n_neighbors'],\n",
    "    weights= gs_knn.best_params_['weights']\n",
    ")\n",
    "\n",
    "knn_optimized.fit(X_train, Y_train)\n",
    "yhat_optimized = knn_optimized.predict(X_test)\n",
    "accuracy_score(yhat_optimized, Y_test)"
   ]
  },
  {
   "cell_type": "markdown",
   "metadata": {},
   "source": [
    "Confusion Matrix for optimized K-Nearest Neighbors model."
   ]
  },
  {
   "cell_type": "code",
   "execution_count": 33,
   "metadata": {},
   "outputs": [
    {
     "data": {
      "image/png": "[encoded data removed]",
      "text/plain": [
       "<Figure size 432x288 with 2 Axes>"
      ]
     },
     "metadata": {},
     "output_type": "display_data"
    }
   ],
   "source": [
    "sns.set(font_scale= 1.5)\n",
    "plt.figure(figsize= (6,4))\n",
    "h =sns.heatmap(confusion_matrix(y_true= Y_test, y_pred= yhat_optimized), annot= True, cmap= 'Greens', fmt = 'g')\n",
    "plt.xlabel('Predicted Label')\n",
    "plt.ylabel('True Label')\n",
    "plt.title('KNeighborsClassifier');"
   ]
  },
  {
   "cell_type": "markdown",
   "metadata": {},
   "source": [
    "# Random Forest Model."
   ]
  },
  {
   "cell_type": "code",
   "execution_count": 34,
   "metadata": {},
   "outputs": [
    {
     "data": {
      "text/plain": [
       "0.7420907840440165"
      ]
     },
     "execution_count": 34,
     "metadata": {},
     "output_type": "execute_result"
    }
   ],
   "source": [
    "rf = RandomForestClassifier(random_state= 1)\n",
    "rf.fit(X_train, Y_train)\n",
    "accuracy_score(rf.predict(X_test), Y_test)"
   ]
  },
  {
   "cell_type": "markdown",
   "metadata": {},
   "source": [
    "Optimizing number of trees values in the forest."
   ]
  },
  {
   "cell_type": "code",
   "execution_count": 35,
   "metadata": {},
   "outputs": [
    {
     "name": "stdout",
     "output_type": "stream",
     "text": [
      "Finding n_tree for the random forest model took 4.073160886764526 seconds.\n"
     ]
    }
   ],
   "source": [
    "t2 = time.time()\n",
    "train_accuracy = []\n",
    "n_trees = np.arange(1, 50, 1)\n",
    "for tree in n_trees:\n",
    "    rf = RandomForestClassifier(n_estimators= tree, random_state= 1)\n",
    "    rf.fit(X_train, Y_train)\n",
    "    train_accuracy_iter = accuracy_score(rf.predict(X_train), Y_train)\n",
    "    train_accuracy.append(train_accuracy_iter)\n",
    "time_rf = time.time()-t2\n",
    "print('Finding n_tree for the random forest model took', time_rf, 'seconds.')"
   ]
  },
  {
   "cell_type": "code",
   "execution_count": 36,
   "metadata": {},
   "outputs": [
    {
     "data": {
      "image/png": "[encoded data removed]",
      "text/plain": [
       "<Figure size 432x288 with 1 Axes>"
      ]
     },
     "metadata": {},
     "output_type": "display_data"
    }
   ],
   "source": [
    "sns.set(font_scale= 1.5)\n",
    "sns.set_style('whitegrid')\n",
    "plt.figure(figsize= (6, 4))\n",
    "sns.lineplot(x = n_trees, y =train_accuracy)\n",
    "plt.xlabel('Number of Trees')\n",
    "plt.ylabel('Training Accuracy');"
   ]
  },
  {
   "cell_type": "code",
   "execution_count": 37,
   "metadata": {},
   "outputs": [
    {
     "name": "stdout",
     "output_type": "stream",
     "text": [
      "0.764402407566638\n"
     ]
    },
    {
     "data": {
      "text/plain": [
       "array([28, 29, 32, 34, 38, 39, 40, 41, 42])"
      ]
     },
     "execution_count": 37,
     "metadata": {},
     "output_type": "execute_result"
    }
   ],
   "source": [
    "print(max(train_accuracy))\n",
    "array = n_trees[train_accuracy == max(train_accuracy)]\n",
    "array"
   ]
  },
  {
   "cell_type": "markdown",
   "metadata": {},
   "source": [
    "Random forest model with optimized number of trees.\n",
    "\n"
   ]
  },
  {
   "cell_type": "code",
   "execution_count": 38,
   "metadata": {},
   "outputs": [
    {
     "data": {
      "text/plain": [
       "RandomForestClassifier(n_estimators=28, random_state=1)"
      ]
     },
     "execution_count": 38,
     "metadata": {},
     "output_type": "execute_result"
    }
   ],
   "source": [
    "rf_optimized = RandomForestClassifier(\n",
    "    n_estimators = array[0],\n",
    "    random_state= 1\n",
    ")\n",
    "rf_optimized.fit(X_train, Y_train)"
   ]
  },
  {
   "cell_type": "markdown",
   "metadata": {},
   "source": [
    "Accuracy for the optimized Random forest model.\n",
    "\n"
   ]
  },
  {
   "cell_type": "code",
   "execution_count": 39,
   "metadata": {},
   "outputs": [
    {
     "data": {
      "text/plain": [
       "0.7434662998624484"
      ]
     },
     "execution_count": 39,
     "metadata": {},
     "output_type": "execute_result"
    }
   ],
   "source": [
    "yhat_optimized = rf_optimized.predict(X_test)\n",
    "accuracy_score(yhat_optimized, Y_test)"
   ]
  },
  {
   "cell_type": "markdown",
   "metadata": {},
   "source": [
    "Confusion matrix for the optimized Random forest model."
   ]
  },
  {
   "cell_type": "code",
   "execution_count": 40,
   "metadata": {},
   "outputs": [
    {
     "data": {
      "text/plain": [
       "Text(0.5, 1.0, 'RandomForestClassifier')"
      ]
     },
     "execution_count": 40,
     "metadata": {},
     "output_type": "execute_result"
    },
    {
     "data": {
      "image/png": "[encoded data removed]",
      "text/plain": [
       "<Figure size 432x288 with 2 Axes>"
      ]
     },
     "metadata": {},
     "output_type": "display_data"
    }
   ],
   "source": [
    "sns.set(font_scale= 1.5)\n",
    "plt.figure(figsize= (6,4))\n",
    "sns.heatmap(confusion_matrix(y_true= Y_test, y_pred= yhat_optimized), annot= True, cmap= 'Greens', fmt = 'g')\n",
    "plt.xlabel('Predicted Label')\n",
    "plt.ylabel('True Label')\n",
    "plt.title('RandomForestClassifier')"
   ]
  },
  {
   "cell_type": "code",
   "execution_count": 41,
   "metadata": {},
   "outputs": [
    {
     "data": {
      "text/html": [
       "<div>\n",
       "<style scoped>\n",
       "    .dataframe tbody tr th:only-of-type {\n",
       "        vertical-align: middle;\n",
       "    }\n",
       "\n",
       "    .dataframe tbody tr th {\n",
       "        vertical-align: top;\n",
       "    }\n",
       "\n",
       "    .dataframe thead th {\n",
       "        text-align: right;\n",
       "    }\n",
       "</style>\n",
       "<table border=\"1\" class=\"dataframe\">\n",
       "  <thead>\n",
       "    <tr style=\"text-align: right;\">\n",
       "      <th></th>\n",
       "      <th>Model</th>\n",
       "      <th>Test split accuracy</th>\n",
       "    </tr>\n",
       "  </thead>\n",
       "  <tbody>\n",
       "    <tr>\n",
       "      <th>0</th>\n",
       "      <td>K-Nearest Neighbors</td>\n",
       "      <td>0.737964</td>\n",
       "    </tr>\n",
       "    <tr>\n",
       "      <th>1</th>\n",
       "      <td>Random Forest</td>\n",
       "      <td>0.743466</td>\n",
       "    </tr>\n",
       "  </tbody>\n",
       "</table>\n",
       "</div>"
      ],
      "text/plain": [
       "                 Model  Test split accuracy\n",
       "0  K-Nearest Neighbors             0.737964\n",
       "1        Random Forest             0.743466"
      ]
     },
     "execution_count": 41,
     "metadata": {},
     "output_type": "execute_result"
    }
   ],
   "source": [
    "pd.DataFrame({\n",
    "    \"Model\" : [\"K-Nearest Neighbors\", \"Random Forest\"],\n",
    "    \"Test split accuracy\" : [accuracy_score(knn_optimized.predict(X_test), Y_test), accuracy_score(rf_optimized.predict(X_test), Y_test)]\n",
    "})"
   ]
  },
  {
   "cell_type": "code",
   "execution_count": 42,
   "metadata": {},
   "outputs": [
    {
     "name": "stdout",
     "output_type": "stream",
     "text": [
      "The execution of entire code in the notebook (excluding time to load the packages) took 143.59132075309753 seconds.\n"
     ]
    }
   ],
   "source": [
    "print('The execution of entire code in the notebook (excluding time to load the packages) took', time.time()-t0, 'seconds.')"
   ]
  },
  {
   "cell_type": "markdown",
   "metadata": {},
   "source": [
    "Author:\n",
    "\n",
    "Mangaljit Singh"
   ]
  }
 ],
 "metadata": {
  "interpreter": {
   "hash": "07ba029a63dcfa286f28eb3e41855caf70e98b697d744d736f4a475db6687448"
  },
  "kernelspec": {
   "display_name": "Python 3.9.7 ('base')",
   "language": "python",
   "name": "python3"
  },
  "language_info": {
   "codemirror_mode": {
    "name": "ipython",
    "version": 3
   },
   "file_extension": ".py",
   "mimetype": "text/x-python",
   "name": "python",
   "nbconvert_exporter": "python",
   "pygments_lexer": "ipython3",
   "version": "3.9.7"
  },
  "orig_nbformat": 4
 },
 "nbformat": 4,
 "nbformat_minor": 2
}
